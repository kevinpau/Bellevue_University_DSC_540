{
 "cells": [
  {
   "cell_type": "markdown",
   "metadata": {},
   "source": [
    " # Week 12: Final Project\n",
    " File: DSC540_Paulovici_Final_Porject.py (.ipynb)<br>\n",
    " Name: Kevin Paulovici<br>\n",
    " Date: 2/29/2020<br>\n",
    " Course: DSC 540 Data Preparation (2203-1)<br>\n",
    " Assignment: Final Project"
   ]
  },
  {
   "cell_type": "markdown",
   "metadata": {},
   "source": [
    " ## Project Outline\n",
    " During the course, you will be working on a term project to either pull data from an API or scrape a webpage. You will need to select either an API (different than Twitter) or a Webpage and create a process in Python that will extract data into a formatted dataset. <br><br>\n",
    " Part 1: Your formatted dataset with at least 15-20 variables (if the API or Webpage you selected doesnâ€™t have that many fields available on it, you will want to search again, or do multiple!) <br> <br>\n",
    " Part 2: Your code or screenshots of your code outlining the steps and process you had to take to pull data from the API or web page and the steps you took to format the data.<br><br>\n",
    " Part 3: 2 Data Transformation/Clean-up Steps (can be any that we learned in class)<br><br>\n",
    " Part 4: A 250-word paper summarizing your steps and any challenges you ran into during the project. Discuss the importance and relevance of this type of process if you were a data scientist. How often do you think you would have to do this to get the data you need?"
   ]
  },
  {
   "cell_type": "markdown",
   "metadata": {},
   "source": [
    " ### Overview\n",
    " I'll be working with the https://openweathermap.org/api for this project. <br><br>\n",
    " I'll make the assumption that the user will use a zip code from the US to request weather data. Some checks will ensure a valid zip code is provided. <br><br>\n",
    " Select variables will be collected from the api, data will be cleaned and transformed into a more usable format (e.g., csv/json/excel)"
   ]
  },
  {
   "cell_type": "markdown",
   "metadata": {},
   "source": [
    " ### Part 1"
   ]
  },
  {
   "cell_type": "code",
   "execution_count": 1,
   "metadata": {},
   "outputs": [
    {
     "name": "stdout",
     "output_type": "stream",
     "text": [
      "Welcome to the Weather App\n",
      "Enter a zip code to get started:12302\n",
      "The zip code to be used is: 12302\n"
     ]
    }
   ],
   "source": [
    "# a) Start by requesting a zip code from the user.\n",
    "user_val = \"\"\n",
    "while isinstance(user_val, str): \n",
    "    if isinstance(user_val, int):\n",
    "        break\n",
    "    else:\n",
    "        user_val = input(\"Welcome to the Weather App\\nEnter a zip code to get started:\")\n",
    "    \n",
    "    if len(str(user_val)) == 5:\n",
    "        try:\n",
    "            user_val = int(user_val)\n",
    "\n",
    "        except:\n",
    "            print(\"Value entered is not a valid zip code\")\n",
    "            pass\n",
    "    else:\n",
    "        print(\"Value entered is not a valid zip code\")\n",
    "\n",
    "print(\"The zip code to be used is: {}\".format(user_val))\n"
   ]
  },
  {
   "cell_type": "code",
   "execution_count": 2,
   "metadata": {},
   "outputs": [
    {
     "name": "stdout",
     "output_type": "stream",
     "text": [
      "39\n"
     ]
    }
   ],
   "source": [
    "# b) Before we request data from the API, we'll import our key and set some parameters for the data \n",
    "# we'll use some data from our assumption to help create the url.\n",
    "unit = 'imperial' # units for data\n",
    "country = 'US' # country\n",
    "zipFormat = 'http://api.openweathermap.org/data/2.5/weather?zip='\n",
    "\n",
    "# to protect the API key we'll pull it from another file\n",
    "from key import getKey\n",
    "APIKEY = getKey()\n",
    "\n",
    "print(len(APIKEY))\n"
   ]
  },
  {
   "cell_type": "code",
   "execution_count": 3,
   "metadata": {},
   "outputs": [
    {
     "name": "stdout",
     "output_type": "stream",
     "text": [
      "{'base': 'stations',\n",
      " 'clouds': {'all': 1},\n",
      " 'cod': 200,\n",
      " 'coord': {'lat': 42.88, 'lon': -73.99},\n",
      " 'dt': 1583115088,\n",
      " 'id': 0,\n",
      " 'main': {'feels_like': 16.9,\n",
      "          'humidity': 62,\n",
      "          'pressure': 1019,\n",
      "          'temp': 23.9,\n",
      "          'temp_max': 28.4,\n",
      "          'temp_min': 19},\n",
      " 'name': 'Schenectady',\n",
      " 'sys': {'country': 'US',\n",
      "         'id': 5137,\n",
      "         'sunrise': 1583062273,\n",
      "         'sunset': 1583102731,\n",
      "         'type': 1},\n",
      " 'timezone': -18000,\n",
      " 'visibility': 16093,\n",
      " 'weather': [{'description': 'clear sky',\n",
      "              'icon': '01n',\n",
      "              'id': 800,\n",
      "              'main': 'Clear'}],\n",
      " 'wind': {'deg': 274, 'speed': 2.51}}\n"
     ]
    }
   ],
   "source": [
    "# c) Use the zip code to request data from the API\n",
    "\n",
    "import requests\n",
    "from pprint import pprint\n",
    "\n",
    "# build the url \n",
    "# api.openweathermap.org/data/2.5/weather?zip={zip code},{country code}&appid={your api key}\n",
    "url = '{}{},{}{}&units={}'.format(zipFormat, user_val, country, APIKEY, unit)\n",
    "\n",
    "try:\n",
    "    data = requests.get(url).json()\n",
    "    pprint(data)\n",
    "except:\n",
    "    print(\"Failed to retrieve weather data\")\n"
   ]
  },
  {
   "cell_type": "code",
   "execution_count": 4,
   "metadata": {},
   "outputs": [
    {
     "name": "stdout",
     "output_type": "stream",
     "text": [
      "{'Date': '2020-03-01',\n",
      " 'country': 'US',\n",
      " 'description': 'clear sky',\n",
      " 'feels_like': 16.9,\n",
      " 'humidity': 62.0,\n",
      " 'id': 5137,\n",
      " 'lat': 42.88,\n",
      " 'lon': -73.99,\n",
      " 'name': 'Schenectady',\n",
      " 'pressure': 1019.0,\n",
      " 'speed': 2.51,\n",
      " 'sunrise': '11:31:13',\n",
      " 'sunset': '22:45:31',\n",
      " 'temp': 23.9,\n",
      " 'temp_max': 28.4,\n",
      " 'temp_min': 19.0}\n"
     ]
    }
   ],
   "source": [
    "# d) Next we'll need to parse the data into a format that is useable. Additionally, we don't need all the values returned. As we go, we can clean and transform the data (e.g., cleaner numbers and correct the date/time associated with sunset/sunrise).\n",
    "\n",
    "from datetime import datetime\n",
    "\n",
    "# These list hold the dict key for data we retrieved from the API\n",
    "coord = [\"lat\", \"lon\"]\n",
    "main = [\"feels_like\", \"humidity\", \"pressure\", \"temp\", \"temp_max\", \"temp_min\"]\n",
    "name = [\"name\"]\n",
    "sys = [\"country\", \"id\", \"sunrise\", \"sunset\"]\n",
    "weather = [\"description\"]\n",
    "wind = [\"speed\"]\n",
    "data_dicts = {\"coord\":coord, \"main\":main, \"name\":name, \"sys\":sys, \"weather\":weather, \"wind\":wind}\n",
    "\n",
    "# We'll collect all data and set it to a dictionary, first with the API names\n",
    "select_data = {} \n",
    "\n",
    "for d in data_dicts.keys():\n",
    "    for item in data_dicts[d]:\n",
    "        if d == \"coord\":\n",
    "            val = float(data[d][item])\n",
    "            select_data[item] = val\n",
    "        elif d == \"main\":\n",
    "            val = float(data[d][item])\n",
    "            select_data[item] = val\n",
    "        elif d == \"name\":\n",
    "            val = data[d]\n",
    "            select_data[item] = val\n",
    "        elif d == \"sys\":\n",
    "            val = data[d][item]\n",
    "\n",
    "            # fix the time stamp\n",
    "            if item == \"sunrise\" or item == \"sunset\":\n",
    "                date_time = datetime.utcfromtimestamp(val).strftime('%Y-%m-%d %H:%M:%S').split()\n",
    "                select_data[\"Date\"] = date_time[0]\n",
    "                val = date_time[1]\n",
    "\n",
    "            select_data[item] = val\n",
    "        elif d == \"weather\":\n",
    "            val = data[d][0][item]\n",
    "            select_data[item] = val\n",
    "        elif d == \"wind\":\n",
    "            val = data[d][item]\n",
    "            select_data[item] = val\n",
    "        \n",
    "        else:\n",
    "            pass\n",
    "            \n",
    "pprint(select_data)\n"
   ]
  },
  {
   "cell_type": "code",
   "execution_count": 5,
   "metadata": {},
   "outputs": [
    {
     "name": "stdout",
     "output_type": "stream",
     "text": [
      "{'City': 'Schenectady',\n",
      " 'Country': 'US',\n",
      " 'Country_id': 5137,\n",
      " 'Humidity_(%)': 62.0,\n",
      " 'Latitude': 42.88,\n",
      " 'Longitude': -73.99,\n",
      " 'Max_Temperature_(F)': 28.4,\n",
      " 'Min_Temperature_(F)': 19.0,\n",
      " 'Pressure_(hPa)': 1019.0,\n",
      " 'Sunrise': '11:31:13',\n",
      " 'Sunset': '22:45:31',\n",
      " 'Temperature_(F)': 23.9,\n",
      " 'Temperature_Feels_like_(F)': 16.9,\n",
      " 'Weather_Description': 'clear sky',\n",
      " 'Wind_Speed_(miles/hr)': 2.51}\n"
     ]
    }
   ],
   "source": [
    "# e) Lastly, we'll want to create better headers and save the data. \n",
    "\n",
    "# These are the headers we'll want at the end\n",
    "cols = [\"City\", \"Country\", \"Country_id\", \"Sunrise\", \"Sunset\", \n",
    "        \"Pressure_(hPa)\", \"Temperature_Feels_like_(F)\", \"Temperature_(F)\", \n",
    "        \"Min_Temperature_(F)\", \"Max_Temperature_(F)\", \"Humidity_(%)\", \"Weather_Description\", \"Wind_Speed_(miles/hr)\", \"Latitude\", \"Longitude\"]\n",
    "\n",
    "# mapping of headers\n",
    "col_dict = {\"City\":\"name\", \n",
    "\"Country\":\"country\", \n",
    "\"Country_id\":\"id\",  \n",
    "\"Sunrise\":\"sunrise\", \n",
    "\"Sunset\":\"sunset\", \n",
    "\"Pressure_(hPa)\":\"pressure\",  \n",
    "\"Temperature_Feels_like_(F)\":\"feels_like\",  \n",
    "\"Temperature_(F)\":\"temp\", \n",
    "\"Min_Temperature_(F)\":\"temp_min\", \n",
    "\"Max_Temperature_(F)\":\"temp_max\", \n",
    "\"Humidity_(%)\":\"humidity\", \n",
    "\"Weather_Description\":\"description\",\n",
    "\"Wind_Speed_(miles/hr)\":\"speed\", \n",
    "\"Latitude\": \"lat\",\n",
    "\"Longitude\": \"lon\"}\n",
    "\n",
    "# new dict with correct headers\n",
    "clean_data = {}\n",
    "\n",
    "for k, v in col_dict.items():\n",
    "    clean_data[k] = select_data[v]\n",
    "\n",
    "pprint(clean_data)\n",
    "\n",
    "# save our the clean data.\n",
    "import csv\n",
    "\n",
    "with open(\"weather_data.csv\", \"w\", newline=\"\") as fOut:\n",
    "    writer =csv.writer(fOut)\n",
    "    for k, v in clean_data.items():\n",
    "        writer.writerow([k, v])\n"
   ]
  },
  {
   "cell_type": "markdown",
   "metadata": {},
   "source": [
    " ### Part 2\n",
    " Part 1 steps a through e explain step by step the process to retrieve data from the weather API based on a zip code. The data cleaning and transformations are included in this step and will be further explain in Part 3 and 4."
   ]
  },
  {
   "cell_type": "markdown",
   "metadata": {},
   "source": [
    " ### Part 3\n",
    " The data transformations were to 1) clean up the dates from Part 1 step d, and 2) transform the headers in Part 1 step e."
   ]
  },
  {
   "cell_type": "markdown",
   "metadata": {},
   "source": [
    " ### Part 4\n",
    " See DSC540_Paulovici_Final_Project.docx for a summary of this project."
   ]
  },
  {
   "cell_type": "markdown",
   "metadata": {},
   "source": [
    " ### Alternative version\n",
    " This portion of the code will take the base functionality from above and combine it into a format where the user assumes a set number of zip codes and all values will be added to a single file. <br><br>\n",
    " Since this version is an alternative, I will keep comments high level unless it deviates from above version."
   ]
  },
  {
   "cell_type": "code",
   "execution_count": 6,
   "metadata": {},
   "outputs": [
    {
     "name": "stdout",
     "output_type": "stream",
     "text": [
      "Zip codes to check are: [12302, 10924, 10001]\n"
     ]
    }
   ],
   "source": [
    "# set the zip codes to check\n",
    "user_vals = [12302, 10924, 10001,] \n",
    "\n",
    "print(\"Zip codes to check are: {}\".format(user_vals))\n"
   ]
  },
  {
   "cell_type": "code",
   "execution_count": 7,
   "metadata": {},
   "outputs": [],
   "source": [
    "# set assumptions for weather request \n",
    "unit = 'imperial' # units for data\n",
    "country = 'US' # country\n",
    "zipFormat = 'http://api.openweathermap.org/data/2.5/weather?zip='\n",
    "\n",
    "# to protect the API key we'll pull it from another file\n",
    "from key import getKey\n",
    "APIKEY = getKey()\n"
   ]
  },
  {
   "cell_type": "code",
   "execution_count": 8,
   "metadata": {},
   "outputs": [],
   "source": [
    "# get requested data and store in a list\n",
    "req_data = []\n",
    "\n",
    "import requests\n",
    "from pprint import pprint\n",
    "\n",
    "for zip_val in user_vals:\n",
    "    # build url\n",
    "    url = '{}{},{}{}&units={}'.format(zipFormat, zip_val, country, APIKEY, unit)\n",
    "\n",
    "    try:\n",
    "        data = requests.get(url).json()\n",
    "        req_data.append(data)\n",
    "    except:\n",
    "        print(\"Failed to retrieve weather data\")\n"
   ]
  },
  {
   "cell_type": "code",
   "execution_count": 9,
   "metadata": {},
   "outputs": [],
   "source": [
    "# parse data & collected wanted data\n",
    "\n",
    "from datetime import datetime\n",
    "\n",
    "def parse_data(data):\n",
    "    \"\"\" Function takes json data and parses it into a dictionary\n",
    "    @param data (json) - json format of requested weather data\n",
    "    return select_data (dict) - dictionary of parsed data \n",
    "    \"\"\" \n",
    "    # These list hold the dict key for data we retrieved from the API\n",
    "    coord = [\"lat\", \"lon\"]\n",
    "    main = [\"feels_like\", \"humidity\", \"pressure\", \"temp\", \"temp_max\", \"temp_min\"]\n",
    "    name = [\"name\"]\n",
    "    sys = [\"country\", \"id\", \"sunrise\", \"sunset\"]\n",
    "    weather = [\"description\"]\n",
    "    wind = [\"speed\"]\n",
    "    data_dicts = {\"coord\":coord, \"main\":main, \"name\":name, \"sys\":sys, \"weather\":weather, \"wind\":wind}\n",
    "\n",
    "    # We'll collect all data and set it to a dictionary, first with the API names\n",
    "    select_data = {} \n",
    "\n",
    "    for d in data_dicts.keys():\n",
    "        for item in data_dicts[d]:\n",
    "            if d == \"coord\":\n",
    "                val = float(data[d][item])\n",
    "                select_data[item] = val\n",
    "            elif d == \"main\":\n",
    "                val = float(data[d][item])\n",
    "                select_data[item] = val\n",
    "            elif d == \"name\":\n",
    "                val = data[d]\n",
    "                select_data[item] = val\n",
    "            elif d == \"sys\":\n",
    "                val = data[d][item]\n",
    "\n",
    "                # fix the time stamp\n",
    "                if item == \"sunrise\" or item == \"sunset\":\n",
    "                    date_time = datetime.utcfromtimestamp(val).strftime('%Y-%m-%d %H:%M:%S').split()\n",
    "                    select_data[\"Date\"] = date_time[0]\n",
    "                    val = date_time[1]\n",
    "\n",
    "                select_data[item] = val\n",
    "            elif d == \"weather\":\n",
    "                val = data[d][0][item]\n",
    "                select_data[item] = val\n",
    "            elif d == \"wind\":\n",
    "                val = data[d][item]\n",
    "                select_data[item] = val\n",
    "            \n",
    "            else:\n",
    "                pass   \n",
    "    return select_data\n",
    "\n",
    "# we'll loop through our data and add the parsed data (dict) to a new list\n",
    "req_parsed_data = []\n",
    "\n",
    "for d in req_data:\n",
    "    req_parsed_data.append(parse_data(d))\n"
   ]
  },
  {
   "cell_type": "code",
   "execution_count": 10,
   "metadata": {},
   "outputs": [
    {
     "name": "stdout",
     "output_type": "stream",
     "text": [
      "{'City': ['New York', 'Goshen', 'Schenectady'],\n",
      " 'Country': ['US', 'US', 'US'],\n",
      " 'Country_id': [4940, 4163, 5137],\n",
      " 'Humidity_(%)': [68.0, 68.0, 62.0],\n",
      " 'Latitude': [40.75, 41.39, 42.88],\n",
      " 'Longitude': [-74.0, -74.33, -73.99],\n",
      " 'Max_Temperature_(F)': [41.0, 36.0, 28.4],\n",
      " 'Min_Temperature_(F)': [26.01, 24.01, 19.0],\n",
      " 'Pressure_(hPa)': [1021.0, 1020.0, 1019.0],\n",
      " 'Sunrise': ['11:29:25', '11:31:17', '11:31:13'],\n",
      " 'Sunset': ['22:47:23', '22:48:10', '22:45:31'],\n",
      " 'Temperature_(F)': [33.19, 29.12, 23.9],\n",
      " 'Temperature_Feels_like_(F)': [23.36, 23.58, 16.9],\n",
      " 'Weather_Description': ['clear sky', 'clear sky', 'clear sky'],\n",
      " 'Wind_Speed_(miles/hr)': [9.26, 0.94, 2.51]}\n"
     ]
    }
   ],
   "source": [
    "# Next we need to swap our headers\n",
    "\n",
    "# These are the headers we'll want at the end\n",
    "cols = [\"City\", \"Country\", \"Country_id\", \"Sunrise\", \"Sunset\", \n",
    "        \"Pressure_(hPa)\", \"Temperature_Feels_like_(F)\", \"Temperature_(F)\", \n",
    "        \"Min_Temperature_(F)\", \"Max_Temperature_(F)\", \"Humidity_(%)\", \"Weather_Description\", \"Wind_Speed_(miles/hr)\", \"Latitude\", \"Longitude\"]\n",
    "\n",
    "# mapping of headers\n",
    "col_dict = {\"City\":\"name\", \n",
    "\"Country\":\"country\", \n",
    "\"Country_id\":\"id\",  \n",
    "\"Sunrise\":\"sunrise\", \n",
    "\"Sunset\":\"sunset\", \n",
    "\"Pressure_(hPa)\":\"pressure\",  \n",
    "\"Temperature_Feels_like_(F)\":\"feels_like\",  \n",
    "\"Temperature_(F)\":\"temp\", \n",
    "\"Min_Temperature_(F)\":\"temp_min\", \n",
    "\"Max_Temperature_(F)\":\"temp_max\", \n",
    "\"Humidity_(%)\":\"humidity\", \n",
    "\"Weather_Description\":\"description\",\n",
    "\"Wind_Speed_(miles/hr)\":\"speed\", \n",
    "\"Latitude\": \"lat\",\n",
    "\"Longitude\": \"lon\"}\n",
    "\n",
    "all_clean_data = {}\n",
    "\n",
    "for d in req_parsed_data:\n",
    "    clean_data = {}\n",
    "\n",
    "    # clean data set\n",
    "    for k,v in col_dict.items():\n",
    "        clean_data[k] = d[v]\n",
    "\n",
    "    # take clean data and add it to all_clean_data\n",
    "    for k, v in clean_data.items():\n",
    "        temp = []\n",
    "        temp.append(v)\n",
    "\n",
    "        try:\n",
    "            for items in all_clean_data[k]:\n",
    "                temp.append(items)\n",
    "        except:\n",
    "            pass\n",
    "        \n",
    "        all_clean_data[k] = temp\n",
    "\n",
    "pprint(all_clean_data)\n"
   ]
  },
  {
   "cell_type": "code",
   "execution_count": 12,
   "metadata": {},
   "outputs": [],
   "source": [
    "# Lastly, save out all of our combined clean data\n",
    "import pandas as pd\n",
    "\n",
    "df = pd.DataFrame({k: pd.Series(v) for k, v in all_clean_data.items()})\n",
    "df.to_csv(\"weather_data2.csv\", encoding='utf-8', index=False)\n"
   ]
  },
  {
   "cell_type": "code",
   "execution_count": null,
   "metadata": {},
   "outputs": [],
   "source": []
  }
 ],
 "metadata": {
  "file_extension": ".py",
  "kernelspec": {
   "display_name": "Python 3",
   "language": "python",
   "name": "python3"
  },
  "language_info": {
   "codemirror_mode": {
    "name": "ipython",
    "version": 3
   },
   "file_extension": ".py",
   "mimetype": "text/x-python",
   "name": "python",
   "nbconvert_exporter": "python",
   "pygments_lexer": "ipython3",
   "version": "3.6.5"
  },
  "mimetype": "text/x-python",
  "name": "python",
  "npconvert_exporter": "python",
  "pygments_lexer": "ipython3",
  "version": 3
 },
 "nbformat": 4,
 "nbformat_minor": 2
}
