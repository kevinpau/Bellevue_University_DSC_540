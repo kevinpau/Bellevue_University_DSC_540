{
 "cells": [
  {
   "cell_type": "markdown",
   "metadata": {},
   "source": [
    " # Week 2: Exercise 2.2\n",
    " File: DSC540_Paulovici_Exercise_2_2.py (.ipynb)<br>\n",
    " Name: Kevin Paulovici<br>\n",
    " Date: 12/7/2019<br>\n",
    " Course: DSC 540 Data Preparation (2203-1)<br>\n",
    " Assignment: Python Basics"
   ]
  },
  {
   "cell_type": "markdown",
   "metadata": {},
   "source": [
    " ## What tools will you be using for the class and which version of Python? Jupyter Notebook, PyCharm, Anaconda, etc.?\n",
    " Python version (Anaconda): 3.6.5 <br> <br>\n",
    " Editor/IDE: Visual Studio Code <br> <br>\n",
    " I will be submitting a Jupyter Notebook, but both a .py and .ipynb file will be available via github. If you prefer just a github link to the assignment please let know."
   ]
  },
  {
   "cell_type": "markdown",
   "metadata": {},
   "source": [
    " ## Complete the following using Python – make sure to show your work and show the values returned. You can submit via your notebook or code editor, no need to export your work."
   ]
  },
  {
   "cell_type": "markdown",
   "metadata": {},
   "source": [
    " ### Change case in a string"
   ]
  },
  {
   "cell_type": "code",
   "execution_count": 1,
   "metadata": {},
   "outputs": [
    {
     "name": "stdout",
     "output_type": "stream",
     "text": [
      "Hello\n",
      "HELLO\n"
     ]
    }
   ],
   "source": [
    "str1 = \"hello\"\n",
    "\n",
    "print(str1.capitalize())\n",
    "print(str1.upper())\n"
   ]
  },
  {
   "cell_type": "markdown",
   "metadata": {},
   "source": [
    " ### Strip space off the end of a string"
   ]
  },
  {
   "cell_type": "code",
   "execution_count": 2,
   "metadata": {},
   "outputs": [
    {
     "name": "stdout",
     "output_type": "stream",
     "text": [
      "hello          has 14 characters before stripping.\n",
      "hello now has 5 characters.\n"
     ]
    }
   ],
   "source": [
    "str2 = \"hello         \"\n",
    "print(\"{} has {} characters before stripping.\".format(str2, len(str2)))\n",
    "\n",
    "str2 = str2.rstrip()\n",
    "print(\"{} now has {} characters.\".format(str2, len(str2)))\n"
   ]
  },
  {
   "cell_type": "markdown",
   "metadata": {},
   "source": [
    " ### Split a string"
   ]
  },
  {
   "cell_type": "code",
   "execution_count": 3,
   "metadata": {},
   "outputs": [
    {
     "name": "stdout",
     "output_type": "stream",
     "text": [
      "Spliting spam sausage spam spam bacon spam tomato and spam results in a <class 'list'>\n",
      "['spam', 'sausage', 'spam', 'spam', 'bacon', 'spam', 'tomato', 'and', 'spam']\n"
     ]
    }
   ],
   "source": [
    "str3 = \"spam sausage spam spam bacon spam tomato and spam\"\n",
    "\n",
    "str3_split = str3.split()\n",
    "\n",
    "print(\"Spliting {} results in a {}\".format(str3, type(str3_split)))\n",
    "print(str3_split)\n"
   ]
  },
  {
   "cell_type": "markdown",
   "metadata": {},
   "source": [
    " ### Add and Subtract integers and decimals"
   ]
  },
  {
   "cell_type": "code",
   "execution_count": 4,
   "metadata": {},
   "outputs": [
    {
     "name": "stdout",
     "output_type": "stream",
     "text": [
      "Adding 2 + 1 = 3\n",
      "Subtracting 2 - 1 = 1\n",
      "Adding 1.1 + 2.5 = 3.6\n",
      "Subtracting 1.1 - 2.5 = -1.4\n"
     ]
    }
   ],
   "source": [
    "num1 = 2\n",
    "num2 = 1\n",
    "num3 = 1.1\n",
    "num4 = 2.5\n",
    "\n",
    "print(\"Adding {} + {} = {}\".format(num1, num2, num1+num2))\n",
    "print(\"Subtracting {} - {} = {}\".format(num1, num2, num1-num2))\n",
    "\n",
    "print(\"Adding {} + {} = {}\".format(num3, num4, num3+num4))\n",
    "print(\"Subtracting {} - {} = {}\".format(num3, num4, num3-num4))\n"
   ]
  },
  {
   "cell_type": "markdown",
   "metadata": {},
   "source": [
    " ### Create a list"
   ]
  },
  {
   "cell_type": "code",
   "execution_count": 5,
   "metadata": {},
   "outputs": [
    {
     "name": "stdout",
     "output_type": "stream",
     "text": [
      "['spam', 'spam', 'spam', 'eggs']\n"
     ]
    },
    {
     "data": {
      "text/plain": [
       "list"
      ]
     },
     "execution_count": 5,
     "metadata": {},
     "output_type": "execute_result"
    }
   ],
   "source": [
    "list1 = [\"spam\", \"spam\", \"spam\", \"eggs\"]\n",
    "\n",
    "print(list1)\n",
    "type(list1)\n"
   ]
  },
  {
   "cell_type": "markdown",
   "metadata": {},
   "source": [
    " ### Add to the list"
   ]
  },
  {
   "cell_type": "code",
   "execution_count": 6,
   "metadata": {},
   "outputs": [
    {
     "name": "stdout",
     "output_type": "stream",
     "text": [
      "['spam', 'spam', 'spam', 'eggs'] before adding bacon\n",
      "['spam', 'spam', 'spam', 'eggs', 'bacon'] after adding bacon\n"
     ]
    }
   ],
   "source": [
    "print(list1, \"before adding bacon\")\n",
    "list1.append(\"bacon\")\n",
    "print(list1, \"after adding bacon\")\n"
   ]
  },
  {
   "cell_type": "markdown",
   "metadata": {},
   "source": [
    " ### Subtract from the list"
   ]
  },
  {
   "cell_type": "code",
   "execution_count": 7,
   "metadata": {},
   "outputs": [
    {
     "name": "stdout",
     "output_type": "stream",
     "text": [
      "['spam', 'spam', 'spam', 'eggs', 'bacon'] before removing eggs\n",
      "['spam', 'spam', 'spam', 'bacon'] after removing eggs\n"
     ]
    }
   ],
   "source": [
    "print(list1, \"before removing eggs\")\n",
    "list1.remove(\"eggs\")\n",
    "print(list1, \"after removing eggs\")\n"
   ]
  },
  {
   "cell_type": "markdown",
   "metadata": {},
   "source": [
    " ### Remove the last item from the list"
   ]
  },
  {
   "cell_type": "code",
   "execution_count": 8,
   "metadata": {},
   "outputs": [
    {
     "name": "stdout",
     "output_type": "stream",
     "text": [
      "['spam', 'spam', 'spam', 'bacon'] before removing last item\n",
      "['spam', 'spam', 'spam'] after removing last item\n"
     ]
    }
   ],
   "source": [
    "print(list1, \"before removing last item\")\n",
    "list1.pop()\n",
    "print(list1, \"after removing last item\")\n"
   ]
  },
  {
   "cell_type": "markdown",
   "metadata": {},
   "source": [
    " ### Re-order the list"
   ]
  },
  {
   "cell_type": "code",
   "execution_count": 9,
   "metadata": {},
   "outputs": [
    {
     "name": "stdout",
     "output_type": "stream",
     "text": [
      "[2.3, 5, 10, 7, 2, 4] before re-ordering\n",
      "[4, 2, 7, 10, 5, 2.3] after re-ordering\n"
     ]
    }
   ],
   "source": [
    "# I need a new list for this...\n",
    "list2 = [2.3, 5, 10, 7, 2, 4]\n",
    "\n",
    "print(list2, \"before re-ordering\")\n",
    "list2.reverse()\n",
    "print(list2, \"after re-ordering\")\n"
   ]
  },
  {
   "cell_type": "markdown",
   "metadata": {},
   "source": [
    " ### Sort the list"
   ]
  },
  {
   "cell_type": "code",
   "execution_count": 10,
   "metadata": {},
   "outputs": [
    {
     "name": "stdout",
     "output_type": "stream",
     "text": [
      "[4, 2, 7, 10, 5, 2.3] before sorting\n",
      "[2, 2.3, 4, 5, 7, 10] after sorting\n"
     ]
    }
   ],
   "source": [
    "print(list2, \"before sorting\")\n",
    "print(sorted(list2), \"after sorting\")\n"
   ]
  },
  {
   "cell_type": "markdown",
   "metadata": {},
   "source": [
    " ### Create a dictionary"
   ]
  },
  {
   "cell_type": "code",
   "execution_count": 11,
   "metadata": {},
   "outputs": [
    {
     "name": "stdout",
     "output_type": "stream",
     "text": [
      "{'num1': 1, 'num2': 2}\n"
     ]
    },
    {
     "data": {
      "text/plain": [
       "dict"
      ]
     },
     "execution_count": 11,
     "metadata": {},
     "output_type": "execute_result"
    }
   ],
   "source": [
    "dict1 = {\"num1\": 1, \"num2\": 2}\n",
    "\n",
    "print(dict1)\n",
    "type(dict1)\n"
   ]
  },
  {
   "cell_type": "markdown",
   "metadata": {},
   "source": [
    " ### Add a key-value to the dictionary"
   ]
  },
  {
   "cell_type": "code",
   "execution_count": 12,
   "metadata": {},
   "outputs": [
    {
     "name": "stdout",
     "output_type": "stream",
     "text": [
      "{'num1': 1, 'num2': 2, 'num3': 3}\n"
     ]
    }
   ],
   "source": [
    "dict1[\"num3\"] = 3\n",
    "\n",
    "print(dict1)\n"
   ]
  },
  {
   "cell_type": "markdown",
   "metadata": {},
   "source": [
    " ### Set a new value to corresponding key in dictionary"
   ]
  },
  {
   "cell_type": "code",
   "execution_count": 13,
   "metadata": {},
   "outputs": [
    {
     "name": "stdout",
     "output_type": "stream",
     "text": [
      "{'num1': 1, 'num2': 2, 'num3': 'three'}\n"
     ]
    }
   ],
   "source": [
    "dict1[\"num3\"] = \"three\"\n",
    "\n",
    "print(dict1)\n"
   ]
  },
  {
   "cell_type": "markdown",
   "metadata": {},
   "source": [
    " ### Look up the new value by the key in dictionary"
   ]
  },
  {
   "cell_type": "code",
   "execution_count": 14,
   "metadata": {},
   "outputs": [
    {
     "name": "stdout",
     "output_type": "stream",
     "text": [
      "The value of num3 is: three.\n"
     ]
    }
   ],
   "source": [
    "print(\"The value of num3 is: {}.\".format(dict1[\"num3\"]))\n"
   ]
  }
 ],
 "metadata": {
  "file_extension": ".py",
  "kernelspec": {
   "display_name": "Python 3",
   "language": "python",
   "name": "python3"
  },
  "language_info": {
   "codemirror_mode": {
    "name": "ipython",
    "version": 3
   },
   "file_extension": ".py",
   "mimetype": "text/x-python",
   "name": "python",
   "nbconvert_exporter": "python",
   "pygments_lexer": "ipython3",
   "version": "3.6.5"
  },
  "mimetype": "text/x-python",
  "name": "python",
  "npconvert_exporter": "python",
  "pygments_lexer": "ipython3",
  "version": 3
 },
 "nbformat": 4,
 "nbformat_minor": 2
}
