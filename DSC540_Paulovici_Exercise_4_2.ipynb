{
 "cells": [
  {
   "cell_type": "markdown",
   "metadata": {},
   "source": [
    " # Week 4: Exercise 4.2\n",
    " File: DSC540_Paulovici_Exercise_4_2.py (.ipynb)<br>\n",
    " Name: Kevin Paulovici<br>\n",
    " Date: 12/22/2019<br>\n",
    " Course: DSC 540 Data Preparation (2203-1)<br>\n",
    " Assignment: Exercise 4.2, PDF and Database"
   ]
  },
  {
   "cell_type": "markdown",
   "metadata": {},
   "source": [
    " ## Data Files\n",
    " Data files used for this exercise can be found here: https://github.com/jackiekazil/data-wrangling"
   ]
  },
  {
   "cell_type": "code",
   "execution_count": 1,
   "metadata": {},
   "outputs": [],
   "source": [
    "import slate3k as slate\n",
    "import pdfminer\n",
    "import pprint\n",
    "import dataset\n"
   ]
  },
  {
   "cell_type": "markdown",
   "metadata": {},
   "source": [
    " ## PDF Reading"
   ]
  },
  {
   "cell_type": "markdown",
   "metadata": {},
   "source": [
    " Follow along with the book and complete the exercise that uses the Slate library starting on page 94 until page 114 (Data Wrangling with Python). At the end of the exercise, the author explains that they’ve run into a roadblock in the code and troubleshooting is the next step. Turn in what you have completed so far with the exercise (make sure to show your work). <br> <br>\n",
    " For extra credit, see if you can get better results and a cleaner process working without having data land in the wrong columns. This is the challenge with data like a PDF – there aren’t necessarily the same rules that can be counted on each time and as mentioned above, sometimes manual manipulation ends up being the fastest way to deal with the data."
   ]
  },
  {
   "cell_type": "markdown",
   "metadata": {},
   "source": [
    " ### Opening and Reading Using slate3k"
   ]
  },
  {
   "cell_type": "code",
   "execution_count": 2,
   "metadata": {},
   "outputs": [
    {
     "name": "stderr",
     "output_type": "stream",
     "text": [
      "WARNING:root:Cannot locate objid=27\n",
      "WARNING:pdfminer.layout:Too many boxes (615) to group, skipping.\n",
      "WARNING:pdfminer.layout:Too many boxes (606) to group, skipping.\n",
      "WARNING:pdfminer.layout:Too many boxes (600) to group, skipping.\n",
      "WARNING:pdfminer.layout:Too many boxes (621) to group, skipping.\n",
      "WARNING:pdfminer.layout:Too many boxes (600) to group, skipping.\n",
      "WARNING:pdfminer.layout:Too many boxes (286) to group, skipping.\n"
     ]
    },
    {
     "name": "stdout",
     "output_type": "stream",
     "text": [
      "<class 'str'>\n",
      "<class 'str'>\n"
     ]
    }
   ],
   "source": [
    "# open up the pdf file and print out a few pages using slate lib\n",
    "pdf = 'EN-FINAL Table 9.pdf'\n",
    "\n",
    "with open (pdf, 'rb') as f:\n",
    "    doc = slate.PDF(f)\n",
    "    doc = [w.replace('\\n', '') for w in doc] # fix for some the warnings\n",
    "\n",
    "for page in doc[:2]:\n",
    "    #print(page)\n",
    "    print(type(page))\n"
   ]
  },
  {
   "cell_type": "markdown",
   "metadata": {},
   "source": [
    " ### Converting PDF to Text"
   ]
  },
  {
   "cell_type": "code",
   "execution_count": 3,
   "metadata": {},
   "outputs": [
    {
     "name": "stdout",
     "output_type": "stream",
     "text": [
      "Female genital mutilation/cutting (%)+ \n",
      "\n",
      "2002â€“2012*\n",
      "\n",
      "prevalence\n",
      "\n",
      "\n",
      "\n",
      "TABLE 9     CHILD PROTECTION\n",
      "\n"
     ]
    }
   ],
   "source": [
    "# convert pdf file to text\n",
    "#pdf2txt.py -o en-final-table9.txt EN-FINAL\\ Table\\ 9.pdf\n",
    "\n",
    "# text file also available from github link\n",
    "\n",
    "pdf_text = 'en-final-table9.txt'\n",
    "openfile = open(pdf_text, 'r')\n",
    "\n",
    "# adding a count to only print out a few lines\n",
    "count = 0\n",
    "\n",
    "for line in openfile:\n",
    "    if count < 5:\n",
    "        print(line)\n",
    "    \n",
    "    count += 1\n"
   ]
  },
  {
   "cell_type": "markdown",
   "metadata": {},
   "source": [
    " ### Parsing PDFs Using pdfminer"
   ]
  },
  {
   "cell_type": "code",
   "execution_count": 4,
   "metadata": {},
   "outputs": [
    {
     "name": "stdout",
     "output_type": "stream",
     "text": [
      "{'': 'â€“',\n",
      " 'Afghanistan': '10',\n",
      " 'Albania': '12',\n",
      " 'Algeria': '5  y',\n",
      " 'Andorra': 'â€“',\n",
      " 'Angola': '24  x',\n",
      " 'Antigua and Barbuda': 'â€“',\n",
      " 'Argentina': '7  y',\n",
      " 'Armenia': '4',\n",
      " 'Australia': 'â€“',\n",
      " 'Austria': 'â€“',\n",
      " 'Azerbaijan': '7  y',\n",
      " 'Bahamas': 'â€“',\n",
      " 'Bahrain': '5  x',\n",
      " 'Bangladesh': '13',\n",
      " 'Barbados': 'â€“',\n",
      " 'Belarus': '1',\n",
      " 'Belgium': 'â€“',\n",
      " 'Belize': '6',\n",
      " 'Benin': '46',\n",
      " 'Bhutan': '3',\n",
      " 'Bolivia (Plurinational': '37',\n",
      " 'Bolivia (Plurinational State of)': '99',\n",
      " 'Bosnia and Herzegovina': '99',\n",
      " 'Botswana': '100 v',\n",
      " 'Brazil': '36 x',\n",
      " 'Brunei Darussalam': 'â€“',\n",
      " 'Bulgaria': '99 y',\n",
      " 'Burkina Faso': '100',\n",
      " 'Burundi': '100 v',\n",
      " 'Cabo Verde': '100 v',\n",
      " 'Cambodia': '94',\n",
      " 'Cameroon': 'â€“',\n",
      " 'Canada': 'â€“',\n",
      " 'Central African Republic': '31',\n",
      " 'Chad': 'â€“',\n",
      " 'Chile': '100 y',\n",
      " 'China': '100 v',\n",
      " 'Colombia': '95',\n",
      " 'Comoros': '80',\n",
      " 'Congo': '100',\n",
      " 'Cook Islands': '75',\n",
      " 'Costa Rica': '88',\n",
      " 'Croatia': 'â€“',\n",
      " 'Cuba': 'â€“',\n",
      " 'Cyprus': 'â€“',\n",
      " 'Czech Republic': '70',\n",
      " 'CÃ´te dâ€™Ivoire': 'â€“',\n",
      " 'Democratic Peopleâ€™s': 'â€“',\n",
      " 'Democratic Republic': '75',\n",
      " 'Democratic Republic of the Congo': 'â€“',\n",
      " 'Denmark': 'â€“',\n",
      " 'Djibouti': 'â€“',\n",
      " 'Dominica': 'â€“',\n",
      " 'Dominican Republic': '65  y',\n",
      " 'Ecuador': 'â€“',\n",
      " 'Egypt': '71',\n",
      " 'El Salvador': 'â€“',\n",
      " 'Equatorial Guinea': 'â€“',\n",
      " 'Eritrea': 'â€“',\n",
      " 'Estonia': 'â€“',\n",
      " 'Ethiopia': '91',\n",
      " 'Fiji': 'â€“',\n",
      " 'Finland': 'â€“',\n",
      " 'France': 'â€“',\n",
      " 'Gabon': 'â€“',\n",
      " 'Gambia': 'â€“',\n",
      " 'Georgia': 'â€“',\n",
      " 'Germany': '65',\n",
      " 'Ghana': 'â€“',\n",
      " 'Greece': '100 y',\n",
      " 'Grenada': '100 v',\n",
      " 'Guatemala': '100 v',\n",
      " 'Guinea': 'â€“',\n",
      " 'Guinea-Bissau': '5  x',\n",
      " 'Guyana': '26',\n",
      " 'Haiti': 'â€“',\n",
      " 'Holy See': 'â€“',\n",
      " 'Honduras': 'â€“',\n",
      " 'Hungary': 'â€“',\n",
      " 'Montenegro': '7  y',\n",
      " 'Morocco': '11  y',\n",
      " 'Mozambique': '5',\n",
      " 'Myanmar': 'â€“',\n",
      " 'Namibia': 'â€“',\n",
      " 'Nauru': 'â€“',\n",
      " 'Nepal': '6',\n",
      " 'Netherlands': 'â€“',\n",
      " 'New Zealand': '2  y',\n",
      " 'Nicaragua': '2',\n",
      " 'Niger': '26  x',\n",
      " 'Nigeria': 'â€“',\n",
      " 'Niue': 'â€“',\n",
      " 'Norway': '4',\n",
      " 'Oman': '100 v',\n",
      " 'Pakistan': '41',\n",
      " 'Palau': '67',\n",
      " 'Panama': '99 y',\n",
      " 'Papua New Guinea': '99',\n",
      " 'Paraguay': '100 v',\n",
      " 'Peru': '100 v',\n",
      " 'Philippines': '100 v',\n",
      " 'Poland': '98',\n",
      " 'Portugal': '100 v',\n",
      " 'Qatar': '99',\n",
      " 'Republic of Korea': '100',\n",
      " 'Republic of Moldova': '60',\n",
      " 'Romania': '94',\n",
      " 'Russian Federation': 'â€“',\n",
      " 'Rwanda': '96',\n",
      " 'Saint Kitts and Nevis': 'â€“',\n",
      " 'Saint Lucia': 'â€“',\n",
      " 'Saint Vincent and': 'â€“',\n",
      " 'Saint Vincent and the Grenadines': 'â€“',\n",
      " 'Samoa': '79',\n",
      " 'San Marino': 'â€“',\n",
      " 'Sao Tome and Principe': 'â€“',\n",
      " 'Saudi Arabia': 'â€“',\n",
      " 'Senegal': '89',\n",
      " 'Serbia': 'â€“',\n",
      " 'Venezuela (Bolivarian': 'â€“',\n",
      " 'Venezuela (Bolivarian Republic of)': '81  y',\n",
      " 'Viet Nam': 'â€“',\n",
      " 'Yemen': '54  y',\n",
      " 'Zambia': '10',\n",
      " 'Zimbabwe': '8'}\n"
     ]
    }
   ],
   "source": [
    "# code reorganized from book b/c it is run in jupyter not as python script\n",
    "\n",
    "def turn_on_off(line, status, start, prev_line, end='\\n'):\n",
    "    \"\"\"\n",
    "    This function checks to see if a line starts/ends with a certain\n",
    "    value. If the line starts/ends with that value, the status is\n",
    "    set to on/off (True/False).\n",
    "    \"\"\"\n",
    "    if line.startswith(start):\n",
    "        status = True\n",
    "    elif status:\n",
    "        if line == end and prev_line != 'and areas':\n",
    "            status = False\n",
    "    return status\n",
    "\n",
    "def clean(line):\n",
    "    \"\"\"\n",
    "    Cleans line breaks, spaces, and special characters from our line.\n",
    "    \"\"\"\n",
    "    line = line.strip('\\n').strip()\n",
    "    line = line.replace('\\xe2\\x80\\x93', '-')\n",
    "    line = line.replace('\\xe2\\x80\\x99', '\\'')\n",
    "    return line\n",
    "\n",
    "# start by opening the pdf text file\n",
    "pdf_txt = 'en-final-table9.txt'\n",
    "openfile = open(pdf_txt, 'r')\n",
    "\n",
    "# set values to false to act as flags\n",
    "country_line = total_line = False\n",
    "\n",
    "previous_line = ''\n",
    "\n",
    "# create empty lists to hold values\n",
    "countries = []\n",
    "totals = []\n",
    "\n",
    "# countries that near special consideration\n",
    "double_lined_countries = [\n",
    "    'Bolivia (Plurinational \\n',\n",
    "    'Democratic People\\xe2\\x80\\x99s \\n',\n",
    "    'Democratic Republic \\n',\n",
    "    'Lao People\\xe2\\x80\\x99s Democratic \\n',\n",
    "    'Micronesia (Federated \\n',\n",
    "    'Saint Vincent and \\n',\n",
    "    'The former Yugoslav \\n',\n",
    "    'United Republic \\n',\n",
    "    'Venezuela (Bolivarian \\n']\n",
    "\n",
    "# loop through each line to find country and values\n",
    "for line in openfile:\n",
    "    if country_line:\n",
    "        if previous_line in double_lined_countries:\n",
    "            line = ' '.join([clean(previous_line), clean(line)])\n",
    "        countries.append(clean(line))\n",
    "\n",
    "    elif total_line:\n",
    "        if len(line.replace('\\n', '').strip()) > 0:\n",
    "            totals.append(clean(line))\n",
    "\n",
    "    country_line = turn_on_off(line, country_line, 'and areas', previous_line)\n",
    "    total_line = turn_on_off(line, total_line, 'total', previous_line)\n",
    "\n",
    "    previous_line = line\n",
    "\n",
    "# print out a dictionary obj of items\n",
    "data = dict(zip(countries, totals))\n",
    "pprint.pprint(data)\n"
   ]
  },
  {
   "cell_type": "markdown",
   "metadata": {},
   "source": [
    " ## Database"
   ]
  },
  {
   "cell_type": "markdown",
   "metadata": {},
   "source": [
    " Setup a local database with Python and load in a dataset (can be any dataset). You can choose what back-end to use, if you have never done this before, the book recommends SQLite and to follow along with the book, you can find that at: SQLite. <br>\n",
    " Create a Python dictionary of the data\n",
    " Create a new table.\n",
    " Insert the data into that table"
   ]
  },
  {
   "cell_type": "code",
   "execution_count": 5,
   "metadata": {},
   "outputs": [
    {
     "data": {
      "text/plain": [
       "1"
      ]
     },
     "execution_count": 5,
     "metadata": {},
     "output_type": "execute_result"
    }
   ],
   "source": [
    "# code based on page 145\n",
    "\n",
    "# connect to db\n",
    "db = dataset.connect('sqlite:///data_wrangling.db')\n",
    "\n",
    "# dictionary of data\n",
    "my_data_source = {\n",
    "    'url': 'http://www.tsmplug.com/football/premier-leaqu-player-salaries-club-by-club/',\n",
    "    'description': 'Premier League Club Salareies',\n",
    "    'topic': 'football',\n",
    "    'verified': False\n",
    "    }\n",
    "\n",
    "# creates a new table called data_sources\n",
    "table = db['data_sources']\n",
    "\n",
    "# inserts the dict data into the table \n",
    "table.insert(my_data_source)\n"
   ]
  },
  {
   "cell_type": "code",
   "execution_count": 6,
   "metadata": {},
   "outputs": [
    {
     "name": "stdout",
     "output_type": "stream",
     "text": [
      "OrderedDict([('id', 1),\n",
      "             ('url',\n",
      "              'http://www.tsmplug.com/football/premier-leaqu-player-salaries-club-by-club/'),\n",
      "             ('description', 'Premier League Club Salareies'),\n",
      "             ('topic', 'football'),\n",
      "             ('verified', False)])\n"
     ]
    }
   ],
   "source": [
    "# print data from table\n",
    "for d in db['data_sources']:\n",
    "    pprint.pprint(d)\n"
   ]
  },
  {
   "cell_type": "code",
   "execution_count": 7,
   "metadata": {},
   "outputs": [
    {
     "name": "stdout",
     "output_type": "stream",
     "text": [
      "['id', 'url', 'description', 'topic', 'verified']\n"
     ]
    }
   ],
   "source": [
    "# print columns\n",
    "print(db['data_sources'].columns)\n",
    "\n"
   ]
  }
 ],
 "metadata": {
  "file_extension": ".py",
  "kernelspec": {
   "display_name": "Python 3",
   "language": "python",
   "name": "python3"
  },
  "language_info": {
   "codemirror_mode": {
    "name": "ipython",
    "version": 3
   },
   "file_extension": ".py",
   "mimetype": "text/x-python",
   "name": "python",
   "nbconvert_exporter": "python",
   "pygments_lexer": "ipython3",
   "version": "3.6.5"
  },
  "mimetype": "text/x-python",
  "name": "python",
  "npconvert_exporter": "python",
  "pygments_lexer": "ipython3",
  "version": 3
 },
 "nbformat": 4,
 "nbformat_minor": 2
}
